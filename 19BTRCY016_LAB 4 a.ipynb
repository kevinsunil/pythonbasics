{
 "cells": [
  {
   "cell_type": "markdown",
   "metadata": {},
   "source": [
    "# KEVIN SUNIL GEORGE - 19BTRCY016\n",
    "LAB 4"
   ]
  },
  {
   "cell_type": "code",
   "execution_count": 1,
   "metadata": {},
   "outputs": [
    {
     "name": "stdout",
     "output_type": "stream",
     "text": [
      "this is lab 4 experiment a\n",
      "Hello all\n",
      "Hope you are doing well\n",
      "I am Kevin S George (19BTRCY016)\n"
     ]
    }
   ],
   "source": [
    "str_ing = 'this is lab 4 experiment a'\n",
    "print(str_ing)\n",
    "\n",
    "str_ing = \"Hello all\"\n",
    "print(str_ing)\n",
    "\n",
    "str_ing = '''Hope you are doing well'''\n",
    "print(str_ing)\n",
    "\n",
    "\n",
    "str_ing = \"\"\"I am Kevin S George (19BTRCY016)\"\"\"\n",
    "print(str_ing)"
   ]
  },
  {
   "cell_type": "code",
   "execution_count": 13,
   "metadata": {},
   "outputs": [
    {
     "name": "stdout",
     "output_type": "stream",
     "text": [
      "K E V I N   S U N I L   G E O R G E "
     ]
    }
   ],
   "source": [
    "str_ing = \"KEVIN SUNIL GEORGE\"\n",
    "for element in range(0,len(str_ing)):\n",
    "    print(str_ing[element], end =\" \")\n"
   ]
  },
  {
   "cell_type": "code",
   "execution_count": 11,
   "metadata": {},
   "outputs": [
    {
     "name": "stdout",
     "output_type": "stream",
     "text": [
      "KvnSn"
     ]
    }
   ],
   "source": [
    "str_ing = \"Kevin Sunil George\"\n",
    "for element in str_ing[0 : 10 : 2]:\n",
    "    print(element, end= \"\")"
   ]
  },
  {
   "cell_type": "code",
   "execution_count": 14,
   "metadata": {},
   "outputs": [
    {
     "name": "stdout",
     "output_type": "stream",
     "text": [
      "Kevin Sunil George\n"
     ]
    }
   ],
   "source": [
    "str_ing1 = \"Kevin\"\n",
    "str_ing2 = \"Sunil George\"\n",
    "print(str_ing1 + \" \"+ str_ing2)"
   ]
  },
  {
   "cell_type": "code",
   "execution_count": null,
   "metadata": {},
   "outputs": [],
   "source": []
  }
 ],
 "metadata": {
  "kernelspec": {
   "display_name": "Python 3",
   "language": "python",
   "name": "python3"
  },
  "language_info": {
   "codemirror_mode": {
    "name": "ipython",
    "version": 3
   },
   "file_extension": ".py",
   "mimetype": "text/x-python",
   "name": "python",
   "nbconvert_exporter": "python",
   "pygments_lexer": "ipython3",
   "version": "3.7.3"
  }
 },
 "nbformat": 4,
 "nbformat_minor": 2
}
