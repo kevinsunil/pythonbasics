{
 "cells": [
  {
   "cell_type": "markdown",
   "metadata": {},
   "source": [
    "# KEVIN SUNIL GEORGE - 19BTRCY016\n",
    "LAB 4"
   ]
  },
  {
   "cell_type": "markdown",
   "metadata": {},
   "source": [
    "# Linear Search"
   ]
  },
  {
   "cell_type": "code",
   "execution_count": 5,
   "metadata": {},
   "outputs": [
    {
     "name": "stdout",
     "output_type": "stream",
     "text": [
      "Enter size of the list 4\n",
      "Enter any number 2\n",
      "Enter any number 1\n",
      "Enter any number 3\n",
      "Enter any number 4\n",
      "Enter the number you want to search 2\n",
      "number found at index:  0\n"
     ]
    }
   ],
   "source": [
    "lst=[]\n",
    "n=int(input(\"Enter size of the list \"))\n",
    "for i in range(n):\n",
    "    a=int(input(\"Enter any number \"))\n",
    "    lst.append(a)\n",
    "b =int(input(\"Enter the number you want to search \"))\n",
    "count =0\n",
    "for i in range(len(lst)):\n",
    "  \n",
    "        if lst[i] == b:\n",
    "             print(\"number found at index: \",i)\n",
    "             count+=1\n",
    "if(count ==0):\n",
    "    print(\"number not found\")"
   ]
  },
  {
   "cell_type": "markdown",
   "metadata": {},
   "source": [
    "# Binary Search"
   ]
  },
  {
   "cell_type": "code",
   "execution_count": 8,
   "metadata": {},
   "outputs": [
    {
     "name": "stdout",
     "output_type": "stream",
     "text": [
      "Enter size of the list 4\n",
      "Enter any number 23\n",
      "Enter any number 55\n",
      "Enter any number 34\n",
      "Enter any number 5\n",
      "Enter the number you want to search 2\n",
      "number not found\n"
     ]
    }
   ],
   "source": [
    "def binary(lst, low, high, b):\n",
    " \n",
    "    if high >= low:\n",
    " \n",
    "        mid = (high + low) // 2\n",
    " \n",
    "        if lst[mid] == b:\n",
    "            return mid\n",
    " \n",
    "        elif lst[mid] > b:\n",
    "            return binary(lst, low, mid - 1,b)\n",
    " \n",
    "        else:\n",
    "            return binary(lst, mid + 1, high, b)\n",
    "    else:\n",
    "        return -1\n",
    "lst=[]\n",
    "n=int(input(\"Enter size of the list \"))\n",
    "for i in range(n):\n",
    "    a=int(input(\"Enter any number \"))\n",
    "    lst.append(a)\n",
    "b =int(input(\"Enter the number you want to search \"))\n",
    "ans = binary(lst,0,len(lst)-1,b)\n",
    "if (ans == -1):\n",
    "    print(\"number not found\")\n",
    "else:\n",
    "    print(\"number found at index: \",ans)\n"
   ]
  },
  {
   "cell_type": "markdown",
   "metadata": {},
   "source": [
    "# Bubble Sort"
   ]
  },
  {
   "cell_type": "code",
   "execution_count": 1,
   "metadata": {},
   "outputs": [
    {
     "name": "stdout",
     "output_type": "stream",
     "text": [
      "Enter size of the list 5\n",
      "Enter any number 34\n",
      "Enter any number 5\n",
      "Enter any number 6\n",
      "Enter any number 23\n",
      "Enter any number 45\n",
      "before sorting the list is : \n",
      "34 5 6 23 45 \n",
      "After sorting the list is : \n",
      "5 6 23 34 45 "
     ]
    }
   ],
   "source": [
    "def bubbleSort(lst):\n",
    "    n = len(lst)    \n",
    "    for i in range(n-1):\n",
    "        for j in range(0, n-i-1):\n",
    "            if lst[j] > lst[j + 1]:\n",
    "                lst[j], lst[j + 1] = lst[j + 1], lst[j]\n",
    "\n",
    "lst=[]\n",
    "n=int(input(\"Enter size of the list \"))\n",
    "for i in range(n):\n",
    "    a=int(input(\"Enter any number \"))\n",
    "    lst.append(a)\n",
    "print(\"before sorting the list is : \")\n",
    "for i in range (len(lst)):\n",
    "    print(lst[i], end =\" \")\n",
    "print(\"\\nAfter sorting the list is : \")\n",
    "bubbleSort(lst)\n",
    "for i in range (len(lst)):\n",
    "    print(lst[i], end =\" \")"
   ]
  },
  {
   "cell_type": "markdown",
   "metadata": {},
   "source": [
    "# Selection Sort"
   ]
  },
  {
   "cell_type": "code",
   "execution_count": 5,
   "metadata": {},
   "outputs": [
    {
     "name": "stdout",
     "output_type": "stream",
     "text": [
      "Enter size of the list 5\n",
      "Enter any number 23\n",
      "Enter any number 4\n",
      "Enter any number 67\n",
      "Enter any number 8\n",
      "Enter any number 90\n",
      "before sorting the list is : \n",
      "23 4 67 8 90 \n",
      "After sorting the list is : \n",
      "4 8 23 67 90 "
     ]
    }
   ],
   "source": [
    "def selection_Sort(lst):\n",
    "    for i in range(len(lst)):\n",
    "        minIndex = i\n",
    "        for j in range(i+1, len(lst)):\n",
    "            if lst[minIndex] > lst[j]:\n",
    "                minIndex = j       \n",
    "        lst[i], lst[minIndex] = lst[minIndex], lst[i]\n",
    "lst=[]\n",
    "n=int(input(\"Enter size of the list \"))\n",
    "for i in range(n):\n",
    "    a=int(input(\"Enter any number \"))\n",
    "    lst.append(a)\n",
    "print(\"before sorting the list is : \")\n",
    "for i in range (len(lst)):\n",
    "    print(lst[i], end =\" \")\n",
    "print(\"\\nAfter sorting the list is : \")\n",
    "selection_Sort(lst)\n",
    "for i in range (len(lst)):\n",
    "    print(lst[i], end =\" \")"
   ]
  },
  {
   "cell_type": "markdown",
   "metadata": {},
   "source": [
    "# Insertion sort"
   ]
  },
  {
   "cell_type": "code",
   "execution_count": 3,
   "metadata": {},
   "outputs": [
    {
     "name": "stdout",
     "output_type": "stream",
     "text": [
      "Enter size of the list 5\n",
      "Enter any number 67\n",
      "Enter any number 7\n",
      "Enter any number 34\n",
      "Enter any number 22\n",
      "Enter any number 1\n",
      "before sorting the list is : \n",
      "67 7 34 22 1 \n",
      "After sorting the list is : \n",
      "1 7 22 34 67 "
     ]
    }
   ],
   "source": [
    "def insertion_sort(lst):\n",
    "    for i in range(1,len(lst)):\n",
    "        temp=lst[i]\n",
    "        j=i-1;\n",
    "        while(j>=0 and temp < lst[j] ):\n",
    "            lst[j+1]=lst[j]\n",
    "            j=j-1\n",
    "        lst[j+1]=temp\n",
    "lst=[]\n",
    "n=int(input(\"Enter size of the list \"))\n",
    "for i in range(n):\n",
    "    a=int(input(\"Enter any number \"))\n",
    "    lst.append(a)\n",
    "print(\"before sorting the list is : \")\n",
    "for i in range (len(lst)):\n",
    "    print(lst[i], end =\" \")\n",
    "print(\"\\nAfter sorting the list is : \")\n",
    "insertion_sort(lst)\n",
    "for i in range (len(lst)):\n",
    "    print(lst[i], end =\" \")"
   ]
  },
  {
   "cell_type": "markdown",
   "metadata": {},
   "source": [
    "# Merge sort"
   ]
  },
  {
   "cell_type": "code",
   "execution_count": 6,
   "metadata": {},
   "outputs": [
    {
     "name": "stdout",
     "output_type": "stream",
     "text": [
      "Enter size of the list 5\n",
      "Enter any number 23\n",
      "Enter any number 3\n",
      "Enter any number 45\n",
      "Enter any number 12\n",
      "Enter any number 2\n",
      "before sorting the list is : \n",
      "23 3 45 12 2 \n",
      "After sorting the list is : \n",
      "2 3 12 23 45 "
     ]
    }
   ],
   "source": [
    "def merge(lst, l, m, r):\n",
    "    n1 = m - l + 1\n",
    "    n2 = r - m \n",
    "    L = [0] * (n1)\n",
    "    R = [0] * (n2)\n",
    "    for i in range(0, n1):\n",
    "        L[i] = lst[l + i]\n",
    " \n",
    "    for j in range(0, n2):\n",
    "        R[j] = lst[m + 1 + j]\n",
    "    i = 0 \n",
    "    j = 0 \n",
    "    k = l \n",
    " \n",
    "    while i < n1 and j < n2:\n",
    "        if L[i] <= R[j]:\n",
    "            lst[k] = L[i]\n",
    "            i += 1\n",
    "        else:\n",
    "            lst[k] = R[j]\n",
    "            j += 1\n",
    "        k += 1\n",
    "\n",
    "    while i < n1:\n",
    "        lst[k] = L[i]\n",
    "        i += 1\n",
    "        k += 1\n",
    "    while j < n2:\n",
    "        lst[k] = R[j]\n",
    "        j += 1\n",
    "        k += 1\n",
    "\n",
    "def mergeSort(lst, l, r):\n",
    "    if l < r:\n",
    "        m = l+(r-l)//2\n",
    "        mergeSort(lst, l, m)\n",
    "        mergeSort(lst, m+1, r)\n",
    "        merge(lst, l, m, r)\n",
    "\n",
    "lst=[]\n",
    "n=int(input(\"Enter size of the list \"))\n",
    "for i in range(n):\n",
    "    a=int(input(\"Enter any number \"))\n",
    "    lst.append(a)\n",
    "print(\"before sorting the list is : \")\n",
    "for i in range (len(lst)):\n",
    "    print(lst[i], end =\" \")\n",
    "print(\"\\nAfter sorting the list is : \")\n",
    "mergeSort(lst, 0, n-1)\n",
    "for i in range (len(lst)):\n",
    "    print(lst[i], end =\" \")"
   ]
  },
  {
   "cell_type": "code",
   "execution_count": null,
   "metadata": {},
   "outputs": [],
   "source": []
  }
 ],
 "metadata": {
  "kernelspec": {
   "display_name": "Python 3",
   "language": "python",
   "name": "python3"
  },
  "language_info": {
   "codemirror_mode": {
    "name": "ipython",
    "version": 3
   },
   "file_extension": ".py",
   "mimetype": "text/x-python",
   "name": "python",
   "nbconvert_exporter": "python",
   "pygments_lexer": "ipython3",
   "version": "3.7.3"
  }
 },
 "nbformat": 4,
 "nbformat_minor": 2
}
