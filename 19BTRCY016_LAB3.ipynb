{
 "cells": [
  {
   "cell_type": "markdown",
   "metadata": {},
   "source": [
    "# KEVIN SUNIL GEORGE 19BTRCY016\n",
    "LAB 3"
   ]
  },
  {
   "cell_type": "markdown",
   "metadata": {},
   "source": [
    "PRIME NUMBERS\n",
    "METHOD 1"
   ]
  },
  {
   "cell_type": "code",
   "execution_count": 6,
   "metadata": {},
   "outputs": [
    {
     "name": "stdout",
     "output_type": "stream",
     "text": [
      "Enter a number5\n",
      "It's a prime number\n"
     ]
    }
   ],
   "source": [
    "n=int(input(\"Enter a number\"))\n",
    "for i in range(2,n):\n",
    "    if(n%i==0):\n",
    "        print(\"not a prime number\")\n",
    "        break\n",
    "else:\n",
    "    print(\"It's a prime number\")"
   ]
  },
  {
   "cell_type": "markdown",
   "metadata": {},
   "source": [
    "METHOD 2"
   ]
  },
  {
   "cell_type": "code",
   "execution_count": 7,
   "metadata": {},
   "outputs": [
    {
     "name": "stdout",
     "output_type": "stream",
     "text": [
      "Enter a number98\n",
      "not a prime number\n"
     ]
    }
   ],
   "source": [
    "n=int(input(\"Enter a number\"))\n",
    "for i in range(2,(n//2)+1):\n",
    "    if(n%i==0):\n",
    "        print(\"not a prime number\")\n",
    "        break\n",
    "else:\n",
    "    print(\"It's a prime number\")"
   ]
  },
  {
   "cell_type": "markdown",
   "metadata": {},
   "source": [
    "METHOD 3"
   ]
  },
  {
   "cell_type": "code",
   "execution_count": 16,
   "metadata": {},
   "outputs": [
    {
     "name": "stdout",
     "output_type": "stream",
     "text": [
      "Enter a number97\n",
      "It's a prime number\n"
     ]
    }
   ],
   "source": [
    "import math\n",
    "n=int(input(\"Enter a number\"))\n",
    "for i in range(2,math.floor(math.sqrt(n))):\n",
    "    if(n%i==0):\n",
    "        print(\"not a prime number\")\n",
    "        break\n",
    "else:\n",
    "    print(\"It's a prime number\")"
   ]
  },
  {
   "cell_type": "markdown",
   "metadata": {},
   "source": [
    "Prime numbers between two numbers\n",
    "Method 1"
   ]
  },
  {
   "cell_type": "code",
   "execution_count": 14,
   "metadata": {},
   "outputs": [
    {
     "name": "stdout",
     "output_type": "stream",
     "text": [
      "Enter lower limit 4\n",
      "Enter upper limit 16\n",
      "prime nos between  4  and  16\n",
      "5\n",
      "7\n",
      "11\n",
      "13\n"
     ]
    }
   ],
   "source": [
    "lower=int(input(\"Enter lower limit \"))\n",
    "upper=int(input(\"Enter upper limit \"))\n",
    "print(\"prime nos between \",lower, \" and \",upper)\n",
    "for m in range(lower,upper+1):\n",
    "    if(m>1):\n",
    "        for i in range(2,m):\n",
    "            if(m%i==0):\n",
    "                break\n",
    "        else:\n",
    "            print(m)"
   ]
  },
  {
   "cell_type": "markdown",
   "metadata": {},
   "source": [
    " Method 2"
   ]
  },
  {
   "cell_type": "code",
   "execution_count": 15,
   "metadata": {},
   "outputs": [
    {
     "name": "stdout",
     "output_type": "stream",
     "text": [
      "Enter lower limit 7\n",
      "Enter upper limit 49\n",
      "prime nos between  7  and  49\n",
      "7\n",
      "11\n",
      "13\n",
      "17\n",
      "19\n",
      "23\n",
      "29\n",
      "31\n",
      "37\n",
      "41\n",
      "43\n",
      "47\n"
     ]
    }
   ],
   "source": [
    "lower=int(input(\"Enter lower limit \"))\n",
    "upper=int(input(\"Enter upper limit \"))\n",
    "print(\"prime nos between \",lower, \" and \",upper)\n",
    "for m in range(lower,upper+1):\n",
    "    if(m>1):\n",
    "        for i in range(2,(m//2)+1):\n",
    "            if(m%i==0):\n",
    "                break\n",
    "        else:\n",
    "            print(m)"
   ]
  },
  {
   "cell_type": "markdown",
   "metadata": {},
   "source": [
    " Largest number Method 1"
   ]
  },
  {
   "cell_type": "code",
   "execution_count": 18,
   "metadata": {},
   "outputs": [
    {
     "name": "stdout",
     "output_type": "stream",
     "text": [
      "Enter first number 34\n",
      "Enter second number 14\n",
      "Enter third number 25\n",
      "Largest number is:  34\n"
     ]
    }
   ],
   "source": [
    "a=int(input(\"Enter first number \"))\n",
    "b=int(input(\"Enter second number \"))\n",
    "c=int(input(\"Enter third number \"))\n",
    "large=a\n",
    "if(b>large):\n",
    "    large =b\n",
    "if(c>large):\n",
    "    large=c\n",
    "print(\"Largest number is: \",large)"
   ]
  },
  {
   "cell_type": "markdown",
   "metadata": {},
   "source": [
    "METHOD 2"
   ]
  },
  {
   "cell_type": "code",
   "execution_count": 21,
   "metadata": {},
   "outputs": [
    {
     "name": "stdout",
     "output_type": "stream",
     "text": [
      "Enter first number 23\n",
      "Enter second number 45\n",
      "Enter third number 4\n",
      "Largest number is:  45\n"
     ]
    }
   ],
   "source": [
    "a=int(input(\"Enter first number \"))\n",
    "b=int(input(\"Enter second number \"))\n",
    "c=int(input(\"Enter third number \"))\n",
    "if(a>b and a>c):\n",
    "    large =a\n",
    "elif(b>a and b>c):\n",
    "    large=b\n",
    "else:\n",
    "    large=c\n",
    "print(\"Largest number is: \",large)"
   ]
  },
  {
   "cell_type": "markdown",
   "metadata": {},
   "source": [
    "GCD/HCF METHOD 1"
   ]
  },
  {
   "cell_type": "code",
   "execution_count": 4,
   "metadata": {},
   "outputs": [
    {
     "name": "stdout",
     "output_type": "stream",
     "text": [
      "Enter first number 5\n",
      "Enter second number 25\n",
      "GCD of the two numbers is :  5\n"
     ]
    }
   ],
   "source": [
    "a=int(input(\"Enter first number \"))\n",
    "b=int(input(\"Enter second number \"))\n",
    "while(b!= a):\n",
    "    if(a>b):\n",
    "        a= a-b\n",
    "    else:\n",
    "        b= b-a\n",
    "print(\"GCD of the two numbers is : \",b)"
   ]
  },
  {
   "cell_type": "markdown",
   "metadata": {},
   "source": [
    "METHOD 2"
   ]
  },
  {
   "cell_type": "code",
   "execution_count": 5,
   "metadata": {},
   "outputs": [
    {
     "name": "stdout",
     "output_type": "stream",
     "text": [
      "Enter first number 38\n",
      "Enter second number 176\n",
      "HCF of the two numbers is :  2\n"
     ]
    }
   ],
   "source": [
    "a=int(input(\"Enter first number \"))\n",
    "b=int(input(\"Enter second number \"))\n",
    "if(a>b):\n",
    "    m=b\n",
    "else:\n",
    "    m=a\n",
    "for i in range(1,m+1):\n",
    "    if((a%i==0) and (b%i==0)):\n",
    "        hcf=i\n",
    "print(\"HCF of the two numbers is : \",hcf)"
   ]
  },
  {
   "cell_type": "code",
   "execution_count": null,
   "metadata": {},
   "outputs": [],
   "source": []
  }
 ],
 "metadata": {
  "kernelspec": {
   "display_name": "Python 3",
   "language": "python",
   "name": "python3"
  },
  "language_info": {
   "codemirror_mode": {
    "name": "ipython",
    "version": 3
   },
   "file_extension": ".py",
   "mimetype": "text/x-python",
   "name": "python",
   "nbconvert_exporter": "python",
   "pygments_lexer": "ipython3",
   "version": "3.7.3"
  }
 },
 "nbformat": 4,
 "nbformat_minor": 2
}
