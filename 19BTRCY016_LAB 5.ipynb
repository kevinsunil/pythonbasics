{
 "cells": [
  {
   "cell_type": "markdown",
   "metadata": {},
   "source": [
    "# KEVIN SUNIL GEORGE - 19BTRCY016\n",
    "LAB 5"
   ]
  },
  {
   "cell_type": "markdown",
   "metadata": {},
   "source": [
    "# 5 A) different types of operators"
   ]
  },
  {
   "cell_type": "code",
   "execution_count": 4,
   "metadata": {},
   "outputs": [
    {
     "name": "stdout",
     "output_type": "stream",
     "text": [
      "Enter your choice 1:Arithmetic \n",
      " 2:Relational \n",
      " 3:Assignment \n",
      " 4:Logical \n",
      " 5:Bitwise \n",
      " 6:Identity \n",
      " 7:Membership : 2\n",
      "Enter first number : 23\n",
      "Enter second  number : 34\n",
      "is 23 greater than 34 = False \n",
      "is 23 lesser than 34 = True \n",
      "is 23 equal to 34 = False \n",
      "is 23 not equal to 34 = True \n",
      "is 23 greater than equal to 34 = False \n",
      "is 23 lesser than equal to 34 = True \n"
     ]
    }
   ],
   "source": [
    "a = int(input(\"Enter your choice 1:Arithmetic \\n 2:Relational \\n 3:Assignment \\n 4:Logical \\n 5:Bitwise \\n 6:Identity \\n 7:Membership : \"))\n",
    "if(a==1):\n",
    "    b= int(input(\"Enter first number : \"))\n",
    "    c= int(input(\"Enter second  number : \"))\n",
    "    add= b+c\n",
    "    dif = b-c\n",
    "    prod= b*c\n",
    "    div=b/c\n",
    "    rem=b%c\n",
    "    pow=b**c\n",
    "    flr=b//c\n",
    "    print(\"Sum of {0} and {1} = {2} \".format(b,c,add))\n",
    "    print(\"Difference of {0} and {1} = {2} \".format(b,c,dif))\n",
    "    print(\"Product of {0} and {1} = {2} \".format(b,c,prod))\n",
    "    print(\"division of {0} and {1} = {2} \".format(b,c,div))\n",
    "    print(\"remainder of {0} and {1} = {2} \".format(b,c,rem))\n",
    "    print(\"power of {0} and {1} = {2} \".format(b,c,pow))\n",
    "    print(\"floor of {0} and {1} = {2} \".format(b,c,flr))\n",
    "elif(a==2):\n",
    "    b= int(input(\"Enter first number : \"))\n",
    "    c= int(input(\"Enter second  number : \"))\n",
    "    print(\"is {0} greater than {1} = {2} \".format(b,c,b>c))\n",
    "    print(\"is {0} lesser than {1} = {2} \".format(b,c,b<c))\n",
    "    print(\"is {0} equal to {1} = {2} \".format(b,c,b==c))\n",
    "    print(\"is {0} not equal to {1} = {2} \".format(b,c,b!=c))\n",
    "    print(\"is {0} greater than equal to {1} = {2} \".format(b,c,b>=c))\n",
    "    print(\"is {0} lesser than equal to {1} = {2} \".format(b,c,b<=c))\n",
    "elif(a==3):\n",
    "    b= int(input(\"Enter first number : \"))\n",
    "    c= int(input(\"Enter second  number : \")) \n",
    "    c=b\n",
    "    printing(\"assigning value of b to c, c is : \",c)\n",
    "    c+=b\n",
    "    printing(\" c += b, c is : \",c)\n",
    "    c-=b\n",
    "    printing(\"c -= b, c is : \",c)\n",
    "    c*=b\n",
    "    printing(\" c *= b, c is : \",c)\n",
    "    c/=b\n",
    "    printing(\" c /= b, c is : \",c)\n",
    "    c%=b\n",
    "    printing(\" c %= b, c is : \",c)\n",
    "elif(a==4):\n",
    "    b= int(input(\"Enter first number : \"))\n",
    "    c= int(input(\"Enter second  number : \")) \n",
    "    if(b>10 and c<20):\n",
    "        print(\"b>10 and c<20 , both are true\")\n",
    "    elif(b>10 or c<20):\n",
    "        print(\"b>10 or c<20 , atleast one of them is true\")\n",
    "    print(\" not c, is \", not c)\n",
    "elif(a==5):\n",
    "    b= int(input(\"Enter first number : \"))\n",
    "    c= int(input(\"Enter second  number : \")) \n",
    "    print(\" b & c is \", b&c)\n",
    "    print(\" b | c is \", b|c)\n",
    "    print(\" b ^ c is \", b^c)\n",
    "    print(\" ~ c is \", (~c))\n",
    "    print(\" b << c is \", b<<c)\n",
    "    print(\" b >> c is \", b>>c)\n",
    "elif(a==6):\n",
    "    b= int(input(\"Enter first number : \"))\n",
    "    c= int(input(\"Enter second  number : \")) \n",
    "    print(\"b is c = \", b is c)\n",
    "    print(\"b is not c = \" ,b is not c)\n",
    "elif(a==7):\n",
    "    b= int(input(\"Enter one number : \"))\n",
    "    print(\"checking for value in existing  array : \", b in (0,1,2,3,4,5,6,7,8,9))\n",
    "    print(\"checking for value is not there in existing  array : \", b not in (0,1,2,3,4,5,6,7,8,9))"
   ]
  },
  {
   "cell_type": "markdown",
   "metadata": {},
   "source": [
    "# 5 B) Overtime pay"
   ]
  },
  {
   "cell_type": "code",
   "execution_count": 5,
   "metadata": {},
   "outputs": [
    {
     "name": "stdout",
     "output_type": "stream",
     "text": [
      "Enter the working hours of the employee : 34\n",
      "Employee hasn't worked more then 40 hours\n",
      "Enter the working hours of the employee : 45\n",
      "Overtime Salary of employee 2 is : 60\n",
      "Enter the working hours of the employee : 44\n",
      "Overtime Salary of employee 3 is : 48\n",
      "Enter the working hours of the employee : 5\n",
      "Employee hasn't worked more then 40 hours\n",
      "Enter the working hours of the employee : 6\n",
      "Employee hasn't worked more then 40 hours\n",
      "Enter the working hours of the employee : 67\n",
      "Overtime Salary of employee 6 is : 324\n",
      "Enter the working hours of the employee : 33\n",
      "Employee hasn't worked more then 40 hours\n",
      "Enter the working hours of the employee : 50\n",
      "Overtime Salary of employee 8 is : 120\n",
      "Enter the working hours of the employee : 45\n",
      "Overtime Salary of employee 9 is : 60\n",
      "Enter the working hours of the employee : 41\n",
      "Overtime Salary of employee 10 is : 12\n",
      "Total Overtime salary is :  624\n"
     ]
    }
   ],
   "source": [
    "count =1\n",
    "sum=0\n",
    "while count <=10:\n",
    "    a= int(input(\"Enter the working hours of the employee : \"))\n",
    "    if(a>40):\n",
    "        sal = (a-40)*12\n",
    "        sum+= sal\n",
    "        print(\"Overtime Salary of employee {0} is : {1}\".format(count,sal))\n",
    "    else:\n",
    "        print(\"Employee hasn't worked more then 40 hours\")\n",
    "    count+=1\n",
    "print(\"Total Overtime salary is : \",sum)"
   ]
  },
  {
   "cell_type": "code",
   "execution_count": null,
   "metadata": {},
   "outputs": [],
   "source": []
  }
 ],
 "metadata": {
  "kernelspec": {
   "display_name": "Python 3",
   "language": "python",
   "name": "python3"
  },
  "language_info": {
   "codemirror_mode": {
    "name": "ipython",
    "version": 3
   },
   "file_extension": ".py",
   "mimetype": "text/x-python",
   "name": "python",
   "nbconvert_exporter": "python",
   "pygments_lexer": "ipython3",
   "version": "3.7.3"
  }
 },
 "nbformat": 4,
 "nbformat_minor": 2
}
