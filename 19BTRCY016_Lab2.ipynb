{
 "cells": [
  {
   "cell_type": "markdown",
   "metadata": {},
   "source": [
    "# KEVIN SUNIL GEORGE - 19BTRCY016\n",
    "LAB 2"
   ]
  },
  {
   "cell_type": "markdown",
   "metadata": {},
   "source": [
    "# Python program to find sum and average of natural numbers upto n where n is provided by the user"
   ]
  },
  {
   "cell_type": "code",
   "execution_count": 1,
   "metadata": {},
   "outputs": [
    {
     "name": "stdout",
     "output_type": "stream",
     "text": [
      "Enter the limit5\n",
      "sum of the numbers =  15\n",
      "average of the numbers =  3.0\n"
     ]
    }
   ],
   "source": [
    "n=int(input(\"Enter the limit\"))\n",
    "if(n<0):\n",
    "    print(\"Enter positive no.\")\n",
    "else:\n",
    "    i=1\n",
    "    sum=0\n",
    "    while i<=n:\n",
    "        sum=sum+i\n",
    "        i=i+1\n",
    "    avg= sum/n\n",
    "    print(\"sum of the numbers = \",sum)\n",
    "    print(\"average of the numbers = \",avg)"
   ]
  },
  {
   "cell_type": "markdown",
   "metadata": {},
   "source": [
    "# Python program to find factorial of a number and fibonacci of a number, recieved by user with iterative and recursive process"
   ]
  },
  {
   "cell_type": "code",
   "execution_count": 2,
   "metadata": {},
   "outputs": [
    {
     "name": "stdout",
     "output_type": "stream",
     "text": [
      "Enter a number10\n",
      "Factorial is :  3628800\n",
      "Factorial is :  3628800\n"
     ]
    }
   ],
   "source": [
    "def fact_iter(n):\n",
    "    fact=1\n",
    "    while(n>0):\n",
    "        fact= fact*n\n",
    "        n= n-1\n",
    "    print(\"Factorial is : \",fact)\n",
    "\n",
    "def fact_rec(n):\n",
    "    if(n==1 or n==0):\n",
    "        return 1\n",
    "    else:\n",
    "        return(n*fact_rec(n-1))\n",
    "\n",
    "n=int(input(\"Enter a number\"))\n",
    "if(n<0):\n",
    "    print(\"invalid input\")\n",
    "else:\n",
    "    fact_iter(n)\n",
    "    x=fact_rec(n)\n",
    "    print(\"Factorial is : \",x)"
   ]
  },
  {
   "cell_type": "code",
   "execution_count": 4,
   "metadata": {},
   "outputs": [
    {
     "name": "stdout",
     "output_type": "stream",
     "text": [
      "Enter a number5\n",
      "Fibonacci series is : \n",
      "0\n",
      "1\n",
      "1\n",
      "2\n",
      "3\n",
      "Fibonacci series using recurssion is : \n",
      "0\n",
      "1\n",
      "1\n",
      "2\n",
      "3\n"
     ]
    }
   ],
   "source": [
    "def fib_iter(m):\n",
    "    a=0\n",
    "    b=1\n",
    "    print(a)\n",
    "    print(b)\n",
    "    i=3\n",
    "    while(i<=m):\n",
    "        fib=a+b\n",
    "        print(fib)\n",
    "        a=b\n",
    "        b=fib\n",
    "        i=i+1\n",
    "def fib_rec(m):\n",
    "    if(m==1):\n",
    "        return 0\n",
    "    elif(m==2):\n",
    "        return 1\n",
    "    else:\n",
    "        return(fib_rec(m-1)+fib_rec(m-2))\n",
    "m=int(input(\"Enter a number\"))\n",
    "if(m<=0):\n",
    "    print(\"Invalid input\")\n",
    "else:\n",
    "    print(\"Fibonacci series is : \")\n",
    "    fib_iter(m)\n",
    "    i=1\n",
    "    print(\"Fibonacci series using recurssion is : \")\n",
    "    while(i<=m):\n",
    "        print(fib_rec(i))\n",
    "        i=i+1\n",
    "\n"
   ]
  },
  {
   "cell_type": "code",
   "execution_count": null,
   "metadata": {},
   "outputs": [],
   "source": []
  }
 ],
 "metadata": {
  "kernelspec": {
   "display_name": "Python 3",
   "language": "python",
   "name": "python3"
  },
  "language_info": {
   "codemirror_mode": {
    "name": "ipython",
    "version": 3
   },
   "file_extension": ".py",
   "mimetype": "text/x-python",
   "name": "python",
   "nbconvert_exporter": "python",
   "pygments_lexer": "ipython3",
   "version": "3.7.3"
  }
 },
 "nbformat": 4,
 "nbformat_minor": 2
}
