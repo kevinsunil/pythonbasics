{
 "cells": [
  {
   "cell_type": "markdown",
   "metadata": {},
   "source": [
    "# KEVIN SUNIL GEORGE - 19BTRCY016\n",
    "LAB 8"
   ]
  },
  {
   "cell_type": "markdown",
   "metadata": {},
   "source": [
    "# 8.Write python programs for following graphical objects"
   ]
  },
  {
   "cell_type": "markdown",
   "metadata": {},
   "source": [
    "# a. Draw the target symbol (a set of concentric squares, alternating red and white) in a graphics window, that is, 200 pixels wide by 200 pixels high. (Hint: Draw the target square first in red, followed by next smaller square in white, then draw the next smaller square in red)."
   ]
  },
  {
   "cell_type": "code",
   "execution_count": 2,
   "metadata": {},
   "outputs": [
    {
     "data": {
      "image/png": "[encoded data removed]",
      "text/plain": [
       "<Figure size 432x288 with 1 Axes>"
      ]
     },
     "metadata": {
      "needs_background": "light"
     },
     "output_type": "display_data"
    },
    {
     "data": {
      "text/plain": [
       "<Figure size 432x288 with 0 Axes>"
      ]
     },
     "execution_count": 2,
     "metadata": {},
     "output_type": "execute_result"
    },
    {
     "data": {
      "text/plain": [
       "<Figure size 432x288 with 0 Axes>"
      ]
     },
     "metadata": {},
     "output_type": "display_data"
    }
   ],
   "source": [
    "import matplotlib.pyplot as plt\n",
    "\n",
    "recta = plt.Rectangle((0, 0), 200, 200, fc=\"r\")\n",
    "plt.gca().add_patch(recta)\n",
    "\n",
    "recta = plt.Rectangle((50, 50), 100, 100, fc=\"w\")\n",
    "plt.gca().add_patch(recta)\n",
    "\n",
    "recta = plt.Rectangle((75, 75), 50, 50, fc=\"r\")\n",
    "plt.gca().add_patch(recta)\n",
    "\n",
    "plt.axis(\"scaled\")\n",
    "plt.show()\n",
    "plt.figure()"
   ]
  },
  {
   "cell_type": "markdown",
   "metadata": {},
   "source": [
    "# b. Create a 5x5 rectangle whose top left corner is at (row*5, col*5). If the sum of the rows and columns’ number is even, set the fill color of the rectangle to white, otherwise set it to the black. Then draw the rectangle."
   ]
  },
  {
   "cell_type": "code",
   "execution_count": 9,
   "metadata": {},
   "outputs": [
    {
     "data": {
      "image/png": "[encoded data removed]",
      "text/plain": [
       "<Figure size 432x288 with 1 Axes>"
      ]
     },
     "metadata": {
      "needs_background": "light"
     },
     "output_type": "display_data"
    }
   ],
   "source": [
    "plt.figure()\n",
    "plt.axis([0, 25, 25, 0])\n",
    "curr = plt.gca()\n",
    "for i in range(0, 5):\n",
    "    for j in range(0, 5):\n",
    "        if((i + j) % 2 == 0):\n",
    "            curr.add_patch(plt.Rectangle((i * 5, j * 5), 5, 5, color=\"white\"))\n",
    "        else:\n",
    "            curr.add_patch(plt.Rectangle((i * 5, j * 5), 5, 5, color=\"black\"))"
   ]
  },
  {
   "cell_type": "code",
   "execution_count": null,
   "metadata": {},
   "outputs": [],
   "source": []
  }
 ],
 "metadata": {
  "kernelspec": {
   "display_name": "Python 3",
   "language": "python",
   "name": "python3"
  },
  "language_info": {
   "codemirror_mode": {
    "name": "ipython",
    "version": 3
   },
   "file_extension": ".py",
   "mimetype": "text/x-python",
   "name": "python",
   "nbconvert_exporter": "python",
   "pygments_lexer": "ipython3",
   "version": "3.7.3"
  }
 },
 "nbformat": 4,
 "nbformat_minor": 2
}
