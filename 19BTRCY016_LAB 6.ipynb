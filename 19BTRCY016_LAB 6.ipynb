{
 "cells": [
  {
   "cell_type": "markdown",
   "metadata": {},
   "source": [
    "# KEVIN SUNIL GEORGE - 19BTRCY016\n",
    "LAB 6"
   ]
  },
  {
   "cell_type": "markdown",
   "metadata": {},
   "source": [
    "# a.Write a Pandas program to create and display a DataFrame from a specified dictionary data which has the index labels."
   ]
  },
  {
   "cell_type": "code",
   "execution_count": 4,
   "metadata": {},
   "outputs": [
    {
     "name": "stdout",
     "output_type": "stream",
     "text": [
      "         name  age\n",
      "A2101    Amit   34\n",
      "A2102  Saurav   23\n",
      "A2103  Yatham   19\n",
      "A2104   Kevin   20\n"
     ]
    }
   ],
   "source": [
    "import numpy as  np\n",
    "import pandas as pa\n",
    "resident_details = {'name':['Amit','Saurav','Yatham','Kevin'] , 'age':[34 , 23 ,19 ,20]}\n",
    "Flat_no = ['A2101','A2102','A2103','A2104']\n",
    "df = pa.DataFrame(resident_details, index = Flat_no )\n",
    "print(df)"
   ]
  },
  {
   "cell_type": "markdown",
   "metadata": {},
   "source": [
    "# b.To create a 4X2 integer array and prints its attributes."
   ]
  },
  {
   "cell_type": "code",
   "execution_count": 6,
   "metadata": {},
   "outputs": [
    {
     "name": "stdout",
     "output_type": "stream",
     "text": [
      "[[2 4]\n",
      " [5 6]\n",
      " [6 7]\n",
      " [7 9]]\n"
     ]
    }
   ],
   "source": [
    "import numpy as  np\n",
    "arr= [[2,4],[5,6],[6,7],[7,9]]\n",
    "array1 = np.array(arr)\n",
    "print(array1)"
   ]
  },
  {
   "cell_type": "markdown",
   "metadata": {},
   "source": [
    "# c.For the given numpy array return array of odd rows and even columns."
   ]
  },
  {
   "cell_type": "code",
   "execution_count": 10,
   "metadata": {},
   "outputs": [
    {
     "name": "stdout",
     "output_type": "stream",
     "text": [
      "[[34 22]\n",
      " [69 13]]\n"
     ]
    }
   ],
   "source": [
    "import numpy as  np\n",
    "arr = [[12,34,53,22],[52,6,16,24],[55,69,72,13]]\n",
    "array2 = np.array(arr)\n",
    "array1 = array2[::2, 1::2]\n",
    "print(array1)"
   ]
  },
  {
   "cell_type": "markdown",
   "metadata": {},
   "source": [
    "# d.To add the two NumPy arrays and modify a result array by calculating the square root of each element"
   ]
  },
  {
   "cell_type": "code",
   "execution_count": 7,
   "metadata": {},
   "outputs": [
    {
     "name": "stdout",
     "output_type": "stream",
     "text": [
      "[55 90 23 49]\n",
      "[7.41619849 9.48683298 4.79583152 7.        ]\n"
     ]
    }
   ],
   "source": [
    "import numpy as np\n",
    "arr = [23,45,12,16]\n",
    "arr1 = [32,45,11,33]\n",
    "array1 = np.array(arr)\n",
    "array2 =np.array(arr1)\n",
    "array3 = (array1 + array2)\n",
    "print(array3)\n",
    "array4 = array3.astype(np.float)\n",
    "for n in np.nditer(array4,op_flags = ['readwrite']):\n",
    "    n[...] = n **(1/2) \n",
    "print(array4)"
   ]
  }
 ],
 "metadata": {
  "kernelspec": {
   "display_name": "Python 3",
   "language": "python",
   "name": "python3"
  },
  "language_info": {
   "codemirror_mode": {
    "name": "ipython",
    "version": 3
   },
   "file_extension": ".py",
   "mimetype": "text/x-python",
   "name": "python",
   "nbconvert_exporter": "python",
   "pygments_lexer": "ipython3",
   "version": "3.7.3"
  }
 },
 "nbformat": 4,
 "nbformat_minor": 2
}
