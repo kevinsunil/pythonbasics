{
 "cells": [
  {
   "cell_type": "markdown",
   "metadata": {},
   "source": [
    "# Kevin Sunil George 19BTRCY016\n",
    "LAB1"
   ]
  },
  {
   "cell_type": "markdown",
   "metadata": {},
   "source": [
    "# To Elaborate variables and their data types such as int,floatboolean,string,list,set,dictionary and tuples"
   ]
  },
  {
   "cell_type": "code",
   "execution_count": 2,
   "metadata": {},
   "outputs": [
    {
     "name": "stdout",
     "output_type": "stream",
     "text": [
      "Value of a=  5\n",
      "Type of a=  <class 'int'>\n",
      "Value of b=  3.0\n",
      "Type of b=  <class 'float'>\n",
      "Value of c=  19BTRCY016\n",
      "Type of c=  <class 'str'>\n",
      "Value of d=  True\n",
      "Type of d=  <class 'bool'>\n",
      "Value of e=  [5, 3.0, 'Kevin']\n",
      "Type of e=  <class 'list'>\n",
      "Value of f=  {1, 2, 4, 5, 7}\n",
      "Type of f=  <class 'set'>\n",
      "Value of g=  (5, 3.0, 'Kevin', 'Python')\n",
      "Type of g=  <class 'tuple'>\n",
      "Value of h=  {'a': 5, '19BTRCY016': 'Kevin'}\n",
      "Type of h=  <class 'dict'>\n"
     ]
    }
   ],
   "source": [
    "a=5\n",
    "b=3.0\n",
    "c=\"19BTRCY016\"\n",
    "d=True\n",
    "e=[5,3.0,\"Kevin\"]\n",
    "f={4,4,2,1,2,5,7,4}\n",
    "g=(5,3.0,\"Kevin\",\"Python\")\n",
    "h={\"a\":5,\"19BTRCY016\":\"Kevin\"}\n",
    "\n",
    "print(\"Value of a= \",a)\n",
    "print(\"Type of a= \",type(a))\n",
    "print(\"Value of b= \",b)\n",
    "print(\"Type of b= \",type(b))\n",
    "print(\"Value of c= \",c)\n",
    "print(\"Type of c= \",type(c))\n",
    "print(\"Value of d= \",d)\n",
    "print(\"Type of d= \",type(d))\n",
    "print(\"Value of e= \",e)\n",
    "print(\"Type of e= \",type(e))\n",
    "print(\"Value of f= \",f)\n",
    "print(\"Type of f= \",type(f))\n",
    "print(\"Value of g= \",g)\n",
    "print(\"Type of g= \",type(g))\n",
    "print(\"Value of h= \",h)\n",
    "print(\"Type of h= \",type(h))"
   ]
  },
  {
   "cell_type": "markdown",
   "metadata": {},
   "source": [
    "# Swap(int,float,string)"
   ]
  },
  {
   "cell_type": "code",
   "execution_count": 3,
   "metadata": {},
   "outputs": [
    {
     "name": "stdout",
     "output_type": "stream",
     "text": [
      "Enter first number23\n",
      "Enter Second number3\n",
      "before swapping b=3,a=23\n",
      "after swapping b=23,a=3\n"
     ]
    }
   ],
   "source": [
    "a=int(input(\"Enter first number\"))\n",
    "b=int(input(\"Enter Second number\"))\n",
    "print (\"before swapping b={0},a={1}\".format(b,a))\n",
    "a,b=b,a\n",
    "print (\"after swapping b={0},a={1}\".format(b,a))"
   ]
  },
  {
   "cell_type": "code",
   "execution_count": 4,
   "metadata": {},
   "outputs": [
    {
     "name": "stdout",
     "output_type": "stream",
     "text": [
      "Enter first number3.6\n",
      "Enter Second number5.4\n",
      "before swapping b=5.4,a=3.6\n",
      "after swapping b=3.6,a=5.4\n"
     ]
    }
   ],
   "source": [
    "a=float(input(\"Enter first number\"))\n",
    "b=float(input(\"Enter Second number\"))\n",
    "print (\"before swapping b={0},a={1}\".format(b,a))\n",
    "a,b=b,a\n",
    "print (\"after swapping b={0},a={1}\".format(b,a))"
   ]
  },
  {
   "cell_type": "code",
   "execution_count": 5,
   "metadata": {},
   "outputs": [
    {
     "name": "stdout",
     "output_type": "stream",
     "text": [
      "enter first string: Kevin\n",
      "enter second string: 19BTRCY016\n",
      "before swapping b=19BTRCY016,a=Kevin\n",
      "after swapping b=Kevin,a=19BTRCY016\n"
     ]
    }
   ],
   "source": [
    "c = input(\"enter first string: \")\n",
    "d = input(\"enter second string: \")\n",
    "print (\"before swapping b={0},a={1}\".format(d,c))\n",
    "c,d=d,c\n",
    "print (\"after swapping b={0},a={1}\".format(d,c))"
   ]
  },
  {
   "cell_type": "markdown",
   "metadata": {},
   "source": [
    "# To elaborate mathematical operations such as addition,subtraction,multiplication,division,modulo and power"
   ]
  },
  {
   "cell_type": "code",
   "execution_count": 6,
   "metadata": {},
   "outputs": [
    {
     "name": "stdout",
     "output_type": "stream",
     "text": [
      "Enter first number: 8\n",
      "Enter second number: 3\n",
      "Sum of 8 and 3 = 11 \n",
      "Difference of 8 and 3 = 5 \n",
      "Product of 8 and 3 = 24 \n",
      "division of 8 and 3 = 2.6666666666666665 \n",
      "remainder of 8 and 3 = 2 \n",
      "power of 8 and 3 = 512 \n",
      "floor of 8 and 3 = 2 \n"
     ]
    }
   ],
   "source": [
    "a=int(input(\"Enter first number: \"))\n",
    "b=int(input(\"Enter second number: \"))\n",
    "sum=a+b\n",
    "diff=a-b\n",
    "prod=a*b\n",
    "div=a/b\n",
    "rem=a%b\n",
    "pow=a**b\n",
    "flr=a//b\n",
    "print(\"Sum of {0} and {1} = {2} \".format(a,b,sum))\n",
    "print(\"Difference of {0} and {1} = {2} \".format(a,b,diff))\n",
    "print(\"Product of {0} and {1} = {2} \".format(a,b,prod))\n",
    "print(\"division of {0} and {1} = {2} \".format(a,b,div))\n",
    "print(\"remainder of {0} and {1} = {2} \".format(a,b,rem))\n",
    "print(\"power of {0} and {1} = {2} \".format(a,b,pow))\n",
    "print(\"floor of {0} and {1} = {2} \".format(a,b,flr))"
   ]
  },
  {
   "cell_type": "markdown",
   "metadata": {},
   "source": [
    "# Operator precedence"
   ]
  },
  {
   "cell_type": "code",
   "execution_count": 7,
   "metadata": {},
   "outputs": [
    {
     "name": "stdout",
     "output_type": "stream",
     "text": [
      "Value of (a + b) *c / d is  10.0\n",
      "Value of ((a + b) *c) / d is  10.0\n",
      "Value of (a + b) *(c / d) is  10.0\n",
      "Value of a + (b * c) / d is  23.333333333333332\n"
     ]
    }
   ],
   "source": [
    "a=20\n",
    "b=10\n",
    "c=5\n",
    "d=15\n",
    "e=(a + b) *c / d\n",
    "print(\"Value of (a + b) *c / d is \",e)\n",
    "e=((a + b) *c) / d\n",
    "print(\"Value of ((a + b) *c) / d is \",e)\n",
    "e=(a + b) *(c / d)\n",
    "print(\"Value of (a + b) *(c / d) is \",e)\n",
    "e=a + (b * c) / d\n",
    "print(\"Value of a + (b * c) / d is \",e)"
   ]
  }
 ],
 "metadata": {
  "kernelspec": {
   "display_name": "Python 3",
   "language": "python",
   "name": "python3"
  },
  "language_info": {
   "codemirror_mode": {
    "name": "ipython",
    "version": 3
   },
   "file_extension": ".py",
   "mimetype": "text/x-python",
   "name": "python",
   "nbconvert_exporter": "python",
   "pygments_lexer": "ipython3",
   "version": "3.7.3"
  }
 },
 "nbformat": 4,
 "nbformat_minor": 2
}
